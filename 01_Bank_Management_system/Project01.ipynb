{
 "cells": [
  {
   "cell_type": "markdown",
   "metadata": {},
   "source": [
    "## Bank Management System"
   ]
  },
  {
   "cell_type": "code",
   "execution_count": 42,
   "metadata": {},
   "outputs": [
    {
     "name": "stdout",
     "output_type": "stream",
     "text": [
      "============Bank Account===========\n",
      "Account Number: 123456\n",
      "Balance: 1300.0\n",
      "\n",
      "============Savings Account===========\n",
      "Account Number: 123456\n",
      "Balance: 1000.0\n",
      "Interest Rate: 0.05\n",
      "Interest Earned: 50.0\n",
      "Account Number: 123456\n",
      "Balance: 1300.0\n",
      "Interest Rate: 0.05\n",
      "\n",
      "============Checking Account===========\n",
      "Account Number: 123456\n",
      "Balance: 1300.0\n",
      "Overdraft Limit: 500.0\n"
     ]
    }
   ],
   "source": [
    "from typing import Union\n",
    "\n",
    "class BankAccount:\n",
    "    def __init__(self, account_number: str, balance: float) -> None:\n",
    "        self.account_number: str = account_number\n",
    "        self.__balance: float = balance\n",
    "\n",
    "    def deposit(self, amount: float) -> None:\n",
    "        self.__balance += amount\n",
    "\n",
    "    def withdraw(self, amount: float) -> None:\n",
    "        if self.__balance >= amount:\n",
    "            self.__balance -= amount\n",
    "        else:\n",
    "            print(\"Insufficient balance\")\n",
    "\n",
    "    def __str__(self) -> str:\n",
    "        return f\"Account Number: {self.account_number}\\nBalance: {self.__balance}\"\n",
    "\n",
    "    def get_balance(self) -> float:\n",
    "        return self.__balance\n",
    "\n",
    "\n",
    "class SavingsAccount(BankAccount):\n",
    "    def __init__(self, account_number: str, balance: float, interest_rate: float) -> None:\n",
    "        super().__init__(account_number, balance)\n",
    "        self.interest_rate: float = interest_rate\n",
    "\n",
    "    def calculate_interest(self) -> float:\n",
    "        return self.get_balance() * self.interest_rate\n",
    "\n",
    "    def __str__(self) -> str:\n",
    "        return super().__str__() + f\"\\nInterest Rate: {self.interest_rate}\"\n",
    "\n",
    "    def get_balance(self) -> float:\n",
    "        return super().get_balance()\n",
    "\n",
    "\n",
    "class CheckingAccount(BankAccount):\n",
    "    def __init__(self, account_number: str, balance: float, overdraft_limit: float) -> None:\n",
    "        super().__init__(account_number, balance)\n",
    "        self.overdraft_limit: float = overdraft_limit\n",
    "\n",
    "    def withdraw(self, amount: float) -> None:\n",
    "        if self.get_balance() + self.overdraft_limit >= amount:\n",
    "            self.deposit(-amount)  # Using deposit with a negative amount\n",
    "        else:\n",
    "            print(\"Overdraft limit exceeded\")\n",
    "\n",
    "    def __str__(self) -> str:\n",
    "        return super().__str__() + f\"\\nOverdraft Limit: {self.overdraft_limit}\"\n",
    "\n",
    "\n",
    "# Testing the classes\n",
    "print(\"============Bank Account===========\")\n",
    "account: BankAccount = BankAccount(\"123456\", 1000.0)\n",
    "account.deposit(500.0)\n",
    "account.withdraw(200.0)\n",
    "print(account)\n",
    "\n",
    "print(\"\\n============Savings Account===========\")\n",
    "test_account: SavingsAccount = SavingsAccount(\"123456\", 1000.0, 0.05)\n",
    "print(test_account)\n",
    "print(f\"Interest Earned: {test_account.calculate_interest()}\")\n",
    "test_account.deposit(500.0)\n",
    "test_account.withdraw(200.0)\n",
    "print(test_account)\n",
    "\n",
    "print(\"\\n============Checking Account===========\")\n",
    "check_account: CheckingAccount = CheckingAccount(\"123456\", 1000.0, 500.0)\n",
    "check_account.deposit(500.0)\n",
    "check_account.withdraw(200.0)\n",
    "print(check_account)\n"
   ]
  }
 ],
 "metadata": {
  "kernelspec": {
   "display_name": "python12",
   "language": "python",
   "name": "python3"
  },
  "language_info": {
   "codemirror_mode": {
    "name": "ipython",
    "version": 3
   },
   "file_extension": ".py",
   "mimetype": "text/x-python",
   "name": "python",
   "nbconvert_exporter": "python",
   "pygments_lexer": "ipython3",
   "version": "3.12.7"
  }
 },
 "nbformat": 4,
 "nbformat_minor": 2
}
